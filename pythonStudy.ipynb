{
 "cells": [
  {
   "cell_type": "code",
   "execution_count": 1,
   "metadata": {},
   "outputs": [
    {
     "name": "stdout",
     "output_type": "stream",
     "text": [
      "hello word\n"
     ]
    }
   ],
   "source": [
    "print(\"hello word\")"
   ]
  },
  {
   "cell_type": "code",
   "execution_count": 1,
   "metadata": {},
   "outputs": [
    {
     "data": {
      "text/plain": [
       "4"
      ]
     },
     "execution_count": 1,
     "metadata": {},
     "output_type": "execute_result"
    }
   ],
   "source": [
    "2+2"
   ]
  },
  {
   "cell_type": "code",
   "execution_count": 6,
   "metadata": {
    "scrolled": false
   },
   "outputs": [
    {
     "data": {
      "text/plain": [
       "0.5"
      ]
     },
     "execution_count": 6,
     "metadata": {},
     "output_type": "execute_result"
    }
   ],
   "source": [
    "1/2"
   ]
  },
  {
   "cell_type": "code",
   "execution_count": 5,
   "metadata": {},
   "outputs": [
    {
     "data": {
      "text/plain": [
       "0"
      ]
     },
     "execution_count": 5,
     "metadata": {},
     "output_type": "execute_result"
    }
   ],
   "source": [
    "1//2"
   ]
  },
  {
   "cell_type": "code",
   "execution_count": 3,
   "metadata": {
    "scrolled": true
   },
   "outputs": [
    {
     "data": {
      "text/plain": [
       "0.5"
      ]
     },
     "execution_count": 3,
     "metadata": {},
     "output_type": "execute_result"
    }
   ],
   "source": [
    "1.0/2.0"
   ]
  },
  {
   "cell_type": "code",
   "execution_count": 10,
   "metadata": {
    "scrolled": true
   },
   "outputs": [
    {
     "data": {
      "text/plain": [
       "0.5"
      ]
     },
     "execution_count": 10,
     "metadata": {},
     "output_type": "execute_result"
    }
   ],
   "source": [
    "from __future__ import division \n",
    "1/2\n",
    "\n",
    "\n"
   ]
  },
  {
   "cell_type": "code",
   "execution_count": 50,
   "metadata": {
    "scrolled": true
   },
   "outputs": [
    {
     "name": "stdout",
     "output_type": "stream",
     "text": [
      "x:2\n",
      "y:3\n",
      "6\n"
     ]
    }
   ],
   "source": [
    "x=input(\"x:\")\n",
    "y=input(\"y:\")\n",
    "x=int(x)\n",
    "y=int(y)\n",
    "print(x*y)"
   ]
  },
  {
   "cell_type": "code",
   "execution_count": 24,
   "metadata": {},
   "outputs": [
    {
     "data": {
      "text/plain": [
       "8"
      ]
     },
     "execution_count": 24,
     "metadata": {},
     "output_type": "execute_result"
    }
   ],
   "source": [
    "pow(2,3)"
   ]
  },
  {
   "cell_type": "code",
   "execution_count": 26,
   "metadata": {},
   "outputs": [
    {
     "data": {
      "text/plain": [
       "32"
      ]
     },
     "execution_count": 26,
     "metadata": {},
     "output_type": "execute_result"
    }
   ],
   "source": [
    "import math\n",
    "math.floor(32.9)"
   ]
  },
  {
   "cell_type": "code",
   "execution_count": 34,
   "metadata": {},
   "outputs": [
    {
     "data": {
      "text/plain": [
       "42"
      ]
     },
     "execution_count": 34,
     "metadata": {},
     "output_type": "execute_result"
    }
   ],
   "source": [
    "int(math.floor(42.89))"
   ]
  },
  {
   "cell_type": "code",
   "execution_count": 40,
   "metadata": {},
   "outputs": [
    {
     "data": {
      "text/plain": [
       "1.4142135623730951"
      ]
     },
     "execution_count": 40,
     "metadata": {},
     "output_type": "execute_result"
    }
   ],
   "source": [
    "\n",
    "math.sqrt(2)"
   ]
  },
  {
   "cell_type": "code",
   "execution_count": 44,
   "metadata": {},
   "outputs": [
    {
     "data": {
      "text/plain": [
       "1.4142135623730951"
      ]
     },
     "execution_count": 44,
     "metadata": {},
     "output_type": "execute_result"
    }
   ],
   "source": [
    "from math import sqrt\n",
    "sqrt(2)"
   ]
  },
  {
   "cell_type": "code",
   "execution_count": 45,
   "metadata": {},
   "outputs": [
    {
     "data": {
      "text/plain": [
       "1j"
      ]
     },
     "execution_count": 45,
     "metadata": {},
     "output_type": "execute_result"
    }
   ],
   "source": [
    "import cmath\n",
    "cmath.sqrt(-1)"
   ]
  },
  {
   "cell_type": "code",
   "execution_count": 1,
   "metadata": {},
   "outputs": [
    {
     "data": {
      "text/plain": [
       "0"
      ]
     },
     "execution_count": 1,
     "metadata": {},
     "output_type": "execute_result"
    }
   ],
   "source": [
    "1//2"
   ]
  },
  {
   "cell_type": "code",
   "execution_count": 17,
   "metadata": {},
   "outputs": [
    {
     "name": "stdout",
     "output_type": "stream",
     "text": [
      "the temp is:38\n"
     ]
    }
   ],
   "source": [
    "temp=38\n",
    "\"the temp is:\"+repr(temp)\n",
    "print(\"the temp is:\"+repr(temp))"
   ]
  },
  {
   "cell_type": "code",
   "execution_count": 36,
   "metadata": {},
   "outputs": [
    {
     "name": "stdout",
     "output_type": "stream",
     "text": [
      "你好，\n",
      "你是谁，\n",
      "你叫什么名字，\n",
      "你多大了？\n",
      "你好，你是谁，你叫什么名字，你多大了？\n",
      "D:\\Git\\DAND\n",
      "what's your name?\n",
      "he say \"hello\"\n",
      "he said \"hello \"what's your name?\n"
     ]
    }
   ],
   "source": [
    "str1='''你好，\n",
    "你是谁，\n",
    "你叫什么名字，\n",
    "你多大了？'''\n",
    "print(str1)\n",
    "\n",
    "str2=\"\"\"你好，你是谁，你叫什么名字，你多大了？\"\"\"\n",
    "print(str2)\n",
    "\n",
    "str3='''D:\\Git\\DAND'''\n",
    "print(str3)\n",
    "\n",
    "str4=\"\"\"what's your name?\"\"\"\n",
    "print(str4)\n",
    "\n",
    "str5='''he say \"hello\"'''\n",
    "print(str5)\n",
    "\n",
    "str6='''he said \"hello \"'''\"\"\"what's your name?\"\"\"\n",
    "print(str6)\n"
   ]
  },
  {
   "cell_type": "code",
   "execution_count": 25,
   "metadata": {},
   "outputs": [
    {
     "name": "stdout",
     "output_type": "stream",
     "text": [
      "你好\\12\\n\\r\\v\\\\\n"
     ]
    }
   ],
   "source": [
    "str=r'你好\\12\\n\\r\\v\\\\'\n",
    "print(str)"
   ]
  },
  {
   "cell_type": "code",
   "execution_count": 9,
   "metadata": {
    "scrolled": true
   },
   "outputs": [
    {
     "name": "stdout",
     "output_type": "stream",
     "text": [
      "Output #4:9\n",
      "Output #5: 81\n",
      "output #6:4.0\n",
      "output #6:3.074\n"
     ]
    },
    {
     "data": {
      "text/plain": [
       "int"
      ]
     },
     "execution_count": 9,
     "metadata": {},
     "output_type": "execute_result"
    }
   ],
   "source": [
    "x=9\n",
    "print(\"Output #4:{0}\".format(x))\n",
    "print(\"Output #5: {0}\".format(3**4))\n",
    "print(\"output #6:{0}\".format(int(8.3)/int(2.7)))\n",
    "print(\"output #6:{0:.3f}\".format(8.3/2.7))  #小数点后3位\n",
    "type(x)"
   ]
  },
  {
   "cell_type": "markdown",
   "metadata": {},
   "source": [
    "### string 字符串"
   ]
  },
  {
   "cell_type": "code",
   "execution_count": 18,
   "metadata": {
    "scrolled": true
   },
   "outputs": [
    {
     "name": "stdout",
     "output_type": "stream",
     "text": [
      "this is a  short string\n",
      "she is very very very very beautiful.\n",
      "23\n"
     ]
    }
   ],
   "source": [
    "string1 =\"this is a  \"\n",
    "string2=\"short string\"\n",
    "sentence=string1+string2\n",
    "print(\"{0:s}\".format(sentence))\n",
    "print(\"{0:s}{1:s}{2:s}\".format(\"she is \",\"very \"*4,\"beautiful.\"))\n",
    "m=len(sentence)\n",
    "print(\"{0:d}\".format(m))"
   ]
  },
  {
   "cell_type": "markdown",
   "metadata": {},
   "source": [
    "### string split"
   ]
  },
  {
   "cell_type": "code",
   "execution_count": 34,
   "metadata": {
    "scrolled": false
   },
   "outputs": [
    {
     "name": "stdout",
     "output_type": "stream",
     "text": [
      "['my', 'deliverable', 'is', 'due', 'in', 'may']\n",
      "['my', 'deliverable', 'is due in may']\n",
      "my,deliverable,is due in may\n"
     ]
    }
   ],
   "source": [
    "string1 = \"my deliverable is due in may\"\n",
    "string1_list1=string1.split()\n",
    "string1_list2=string1.split(\" \",2)\n",
    "print(\"{0}\".format(string1_list1))\n",
    "print(\"{0}\".format(string1_list2))\n",
    "\n",
    "#join\n",
    "print(\"{0}\".format(\",\".join(string1_list2)))\n",
    "\n"
   ]
  },
  {
   "cell_type": "markdown",
   "metadata": {},
   "source": [
    "### strip lstrip rstrip 3个删除两侧、左侧和右侧空格、制表符和换行符"
   ]
  },
  {
   "cell_type": "code",
   "execution_count": 39,
   "metadata": {
    "scrolled": false
   },
   "outputs": [
    {
     "name": "stdout",
     "output_type": "stream",
     "text": [
      " Remove unwanted characters    from  this string.\t\t   \n",
      "  \n",
      "Remove unwanted characters    from  this string.\t\t   \n",
      "  \n",
      " Remove unwanted characters    from  this string.\n",
      "Remove unwanted characters    from  this string.\n"
     ]
    }
   ],
   "source": [
    "\n",
    "string3=\" Remove unwanted characters    from  this string.\\t\\t   \\n  \"\n",
    "print(\"{0}\".format(string3))\n",
    "string3_lstrip=string3.lstrip()\n",
    "print(\"{0}\".format(string3_lstrip))\n",
    "string3_rstrip=string3.rstrip()\n",
    "print(\"{0}\".format(string3_rstrip))\n",
    "string3_strip=string3.strip()\n",
    "print(\"{0}\".format(string3_strip))\n"
   ]
  },
  {
   "cell_type": "markdown",
   "metadata": {},
   "source": [
    "### replace函数将字符串中的一个或者一组字符替换成另一个或一组字符\n"
   ]
  },
  {
   "cell_type": "markdown",
   "metadata": {},
   "source": [
    "## 正则表达式与模式匹配"
   ]
  },
  {
   "cell_type": "code",
   "execution_count": 11,
   "metadata": {},
   "outputs": [
    {
     "name": "stdout",
     "output_type": "stream",
     "text": [
      "2\n",
      "The\n",
      "the\n"
     ]
    }
   ],
   "source": [
    "import re\n",
    "string =\"The quick brown fox jumps over the lazy dog\"\n",
    "string_list=string.split()\n",
    "pattern=re.compile(r\"the\",re.I)\n",
    "count=0\n",
    "for word in string_list:\n",
    "    if pattern.search(word):\n",
    "        count+=1   \n",
    "        \n",
    "print(\"{0}\".format(count))    \n",
    "\n",
    "\n",
    "pattern=re.compile(r\"(?P<match_word>the)\",re.I)\n",
    "for word in string_list:\n",
    "    if pattern.search(word):\n",
    "        print(\"{0:s}\".format(pattern.search(word).group('match_word')))\n",
    "\n",
    "    \n"
   ]
  },
  {
   "cell_type": "markdown",
   "metadata": {},
   "source": [
    "## 日期"
   ]
  },
  {
   "cell_type": "code",
   "execution_count": 57,
   "metadata": {
    "scrolled": true
   },
   "outputs": [
    {
     "name": "stdout",
     "output_type": "stream",
     "text": [
      "2018\n",
      "1\n",
      "15\n",
      "today:2018-01-15\n",
      "2018-01-15 23:03:52.439907\n",
      "2018-01-14\n",
      "-1 82800\n",
      "-1 day, 23:00:00\n",
      "last_hours:2018-01-15 22:03:52.439907\n",
      "1 day, 0:00:00\n",
      "1\n"
     ]
    }
   ],
   "source": [
    "from datetime import date,time,datetime,timedelta\n",
    "\n",
    "today=date.today()\n",
    "print(\"{0!s}\".format(today.year)) #!s 表示传入的值应该格式化为字符串\n",
    "print(\"{0!s}\".format(today.month))\n",
    "print(\"{0!s}\".format(today.day))\n",
    "print(\"today:{0!s}\".format(today))\n",
    "\n",
    "current_datetime=datetime.today()\n",
    "\n",
    "print(\"{0!s}\".format(current_datetime))\n",
    "\n",
    "#使用timedelta计算一个新的日期\n",
    "one_day =timedelta(days=-1)\n",
    "yesterday=today+one_day\n",
    "print(\"{0!s}\".format(yesterday))\n",
    "\n",
    "eight_hours =timedelta(hours=-1)\n",
    "print(\"{0!s} {1!s}\".format(eight_hours.days,eight_hours.seconds))\n",
    "print(\"{0!s}\".format(eight_hours))\n",
    "last_hours=current_datetime+eight_hours\n",
    "\n",
    "print(\"last_hours:{0!s}\".format(last_hours))\n",
    "\n",
    "#计算出两个日期之间的天数\n",
    "date_diff=today-yesterday\n",
    "print(\"{0!s}\".format(date_diff))\n",
    "print(\"{0!s}\".format(str(date_diff).split()[0]))\n",
    "\n"
   ]
  }
 ],
 "metadata": {
  "kernelspec": {
   "display_name": "Python 3",
   "language": "python",
   "name": "python3"
  },
  "language_info": {
   "codemirror_mode": {
    "name": "ipython",
    "version": 3
   },
   "file_extension": ".py",
   "mimetype": "text/x-python",
   "name": "python",
   "nbconvert_exporter": "python",
   "pygments_lexer": "ipython3",
   "version": "3.6.3"
  }
 },
 "nbformat": 4,
 "nbformat_minor": 2
}
